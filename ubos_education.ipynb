{
 "cells": [
  {
   "cell_type": "markdown",
   "metadata": {},
   "source": [
    "### Team : Uganda Bureau of Statistics (UBOS)\n",
    "*** Ivan Atwiine *** Edgar Niyimpa *** Bob Tumushiime *** Bonita Natamba *** Alban Manishimwe"
   ]
  },
  {
   "cell_type": "markdown",
   "metadata": {},
   "source": [
    "#### A Geospartial, AI and Data Driven Solution for Equitable Education through Bridging the Teacher to Pupil Gap in Uganda"
   ]
  },
  {
   "cell_type": "markdown",
   "metadata": {},
   "source": [
    "**Abstract**: The goal of this project  is to determine the nearest education facilities for a given population. It will also leverage on usage of Artificial Intelligence to help policy makers in Uganda determine where to set up new schools or how to improve accessibility to education services."
   ]
  },
  {
   "cell_type": "code",
   "execution_count": 59,
   "metadata": {},
   "outputs": [],
   "source": [
    "#%pip install geopandas pygeos"
   ]
  },
  {
   "cell_type": "code",
   "execution_count": 60,
   "metadata": {},
   "outputs": [],
   "source": [
    "#pip install scikit-learn"
   ]
  },
  {
   "cell_type": "markdown",
   "metadata": {},
   "source": [
    "##### Let's install the required libraries that we are going to work with"
   ]
  },
  {
   "cell_type": "code",
   "execution_count": 61,
   "metadata": {},
   "outputs": [],
   "source": [
    "import pandas as pd\n",
    "import urllib.request\n",
    "import geopandas as gpd\n",
    "import zipfile"
   ]
  },
  {
   "cell_type": "code",
   "execution_count": null,
   "metadata": {},
   "outputs": [],
   "source": []
  },
  {
   "cell_type": "code",
   "execution_count": 62,
   "metadata": {},
   "outputs": [],
   "source": [
    "# We need to load the boundaries data for Uganda for us to be able to map schools data onto the map.\n",
    "uganda_boundaries = gpd.read_file('uganda_boundaries_dataset/DISTRICTS_2018_UTM_36N.shp')"
   ]
  },
  {
   "cell_type": "code",
   "execution_count": 63,
   "metadata": {},
   "outputs": [],
   "source": [
    "uganda_boundaries['geometry'] = uganda_boundaries['geometry'].centroid\n",
    "uganda_boundaries['Longitude'] = uganda_boundaries['geometry'].x\n",
    "uganda_boundaries['Latitude'] = uganda_boundaries['geometry'].y"
   ]
  },
  {
   "cell_type": "code",
   "execution_count": 64,
   "metadata": {},
   "outputs": [
    {
     "data": {
      "text/html": [
       "<div>\n",
       "<style scoped>\n",
       "    .dataframe tbody tr th:only-of-type {\n",
       "        vertical-align: middle;\n",
       "    }\n",
       "\n",
       "    .dataframe tbody tr th {\n",
       "        vertical-align: top;\n",
       "    }\n",
       "\n",
       "    .dataframe thead th {\n",
       "        text-align: right;\n",
       "    }\n",
       "</style>\n",
       "<table border=\"1\" class=\"dataframe\">\n",
       "  <thead>\n",
       "    <tr style=\"text-align: right;\">\n",
       "      <th></th>\n",
       "      <th>F15Regions</th>\n",
       "      <th>DName2016</th>\n",
       "      <th>DNama2017</th>\n",
       "      <th>dc2017</th>\n",
       "      <th>Male</th>\n",
       "      <th>Female</th>\n",
       "      <th>PopnRtn</th>\n",
       "      <th>TotalPopn</th>\n",
       "      <th>Popn</th>\n",
       "      <th>DName2018</th>\n",
       "      <th>geometry</th>\n",
       "      <th>Longitude</th>\n",
       "      <th>Latitude</th>\n",
       "    </tr>\n",
       "  </thead>\n",
       "  <tbody>\n",
       "    <tr>\n",
       "      <th>0</th>\n",
       "      <td>SOUTH BUGANDA</td>\n",
       "      <td>MASAKA</td>\n",
       "      <td>MASAKA</td>\n",
       "      <td>105</td>\n",
       "      <td>145552</td>\n",
       "      <td>151452</td>\n",
       "      <td>96</td>\n",
       "      <td>297004</td>\n",
       "      <td>0</td>\n",
       "      <td>MASAKA</td>\n",
       "      <td>POINT (372569.060 -54007.263)</td>\n",
       "      <td>372569.060097</td>\n",
       "      <td>-54007.263475</td>\n",
       "    </tr>\n",
       "    <tr>\n",
       "      <th>1</th>\n",
       "      <td>BUKEDI</td>\n",
       "      <td>PALLISA</td>\n",
       "      <td>BUTEBO</td>\n",
       "      <td>233</td>\n",
       "      <td>70352</td>\n",
       "      <td>74619</td>\n",
       "      <td>94</td>\n",
       "      <td>144971</td>\n",
       "      <td>0</td>\n",
       "      <td>BUTEBO</td>\n",
       "      <td>POINT (604311.840 132523.890)</td>\n",
       "      <td>604311.840104</td>\n",
       "      <td>132523.889881</td>\n",
       "    </tr>\n",
       "    <tr>\n",
       "      <th>2</th>\n",
       "      <td>LANGO</td>\n",
       "      <td>ALEBTONG</td>\n",
       "      <td>ALEBTONG</td>\n",
       "      <td>323</td>\n",
       "      <td>110989</td>\n",
       "      <td>116552</td>\n",
       "      <td>95</td>\n",
       "      <td>227541</td>\n",
       "      <td>0</td>\n",
       "      <td>ALEBTONG</td>\n",
       "      <td>POINT (528350.940 250840.912)</td>\n",
       "      <td>528350.940289</td>\n",
       "      <td>250840.911509</td>\n",
       "    </tr>\n",
       "    <tr>\n",
       "      <th>3</th>\n",
       "      <td>TESO</td>\n",
       "      <td>BUKEDEA</td>\n",
       "      <td>BUKEDEA</td>\n",
       "      <td>219</td>\n",
       "      <td>98684</td>\n",
       "      <td>104916</td>\n",
       "      <td>94</td>\n",
       "      <td>203600</td>\n",
       "      <td>0</td>\n",
       "      <td>BUKEDEA</td>\n",
       "      <td>POINT (624997.884 150903.413)</td>\n",
       "      <td>624997.884423</td>\n",
       "      <td>150903.412822</td>\n",
       "    </tr>\n",
       "    <tr>\n",
       "      <th>4</th>\n",
       "      <td>BUKEDI</td>\n",
       "      <td>BUSIA</td>\n",
       "      <td>BUSIA</td>\n",
       "      <td>202</td>\n",
       "      <td>156447</td>\n",
       "      <td>167215</td>\n",
       "      <td>94</td>\n",
       "      <td>323662</td>\n",
       "      <td>0</td>\n",
       "      <td>BUSIA</td>\n",
       "      <td>POINT (611790.200 45829.827)</td>\n",
       "      <td>611790.200208</td>\n",
       "      <td>45829.826598</td>\n",
       "    </tr>\n",
       "  </tbody>\n",
       "</table>\n",
       "</div>"
      ],
      "text/plain": [
       "      F15Regions DName2016 DNama2017  dc2017    Male  Female  PopnRtn  \\\n",
       "0  SOUTH BUGANDA    MASAKA    MASAKA     105  145552  151452       96   \n",
       "1         BUKEDI   PALLISA    BUTEBO     233   70352   74619       94   \n",
       "2          LANGO  ALEBTONG  ALEBTONG     323  110989  116552       95   \n",
       "3           TESO   BUKEDEA   BUKEDEA     219   98684  104916       94   \n",
       "4         BUKEDI     BUSIA     BUSIA     202  156447  167215       94   \n",
       "\n",
       "   TotalPopn  Popn DName2018                       geometry      Longitude  \\\n",
       "0     297004     0    MASAKA  POINT (372569.060 -54007.263)  372569.060097   \n",
       "1     144971     0    BUTEBO  POINT (604311.840 132523.890)  604311.840104   \n",
       "2     227541     0  ALEBTONG  POINT (528350.940 250840.912)  528350.940289   \n",
       "3     203600     0   BUKEDEA  POINT (624997.884 150903.413)  624997.884423   \n",
       "4     323662     0     BUSIA   POINT (611790.200 45829.827)  611790.200208   \n",
       "\n",
       "        Latitude  \n",
       "0  -54007.263475  \n",
       "1  132523.889881  \n",
       "2  250840.911509  \n",
       "3  150903.412822  \n",
       "4   45829.826598  "
      ]
     },
     "execution_count": 64,
     "metadata": {},
     "output_type": "execute_result"
    }
   ],
   "source": [
    "uganda_boundaries.head()"
   ]
  },
  {
   "cell_type": "code",
   "execution_count": 65,
   "metadata": {},
   "outputs": [
    {
     "data": {
      "text/plain": [
       "Index(['F15Regions', 'DName2016', 'DNama2017', 'dc2017', 'Male', 'Female',\n",
       "       'PopnRtn', 'TotalPopn', 'Popn', 'DName2018', 'geometry', 'Longitude',\n",
       "       'Latitude'],\n",
       "      dtype='object')"
      ]
     },
     "execution_count": 65,
     "metadata": {},
     "output_type": "execute_result"
    }
   ],
   "source": [
    "uganda_boundaries.columns"
   ]
  },
  {
   "cell_type": "code",
   "execution_count": 66,
   "metadata": {},
   "outputs": [],
   "source": [
    "# lets drop some columns that may not be of interest to us:\n",
    "\n",
    "uganda_boundaries.drop(['DNama2017', 'dc2017','Male','Female','PopnRtn','TotalPopn','Popn','DName2018','geometry'], axis=1, inplace=True)"
   ]
  },
  {
   "cell_type": "code",
   "execution_count": 67,
   "metadata": {},
   "outputs": [
    {
     "data": {
      "text/html": [
       "<div>\n",
       "<style scoped>\n",
       "    .dataframe tbody tr th:only-of-type {\n",
       "        vertical-align: middle;\n",
       "    }\n",
       "\n",
       "    .dataframe tbody tr th {\n",
       "        vertical-align: top;\n",
       "    }\n",
       "\n",
       "    .dataframe thead th {\n",
       "        text-align: right;\n",
       "    }\n",
       "</style>\n",
       "<table border=\"1\" class=\"dataframe\">\n",
       "  <thead>\n",
       "    <tr style=\"text-align: right;\">\n",
       "      <th></th>\n",
       "      <th>F15Regions</th>\n",
       "      <th>DName2016</th>\n",
       "      <th>Longitude</th>\n",
       "      <th>Latitude</th>\n",
       "    </tr>\n",
       "  </thead>\n",
       "  <tbody>\n",
       "    <tr>\n",
       "      <th>0</th>\n",
       "      <td>SOUTH BUGANDA</td>\n",
       "      <td>MASAKA</td>\n",
       "      <td>372569.060097</td>\n",
       "      <td>-54007.263475</td>\n",
       "    </tr>\n",
       "    <tr>\n",
       "      <th>1</th>\n",
       "      <td>BUKEDI</td>\n",
       "      <td>PALLISA</td>\n",
       "      <td>604311.840104</td>\n",
       "      <td>132523.889881</td>\n",
       "    </tr>\n",
       "    <tr>\n",
       "      <th>2</th>\n",
       "      <td>LANGO</td>\n",
       "      <td>ALEBTONG</td>\n",
       "      <td>528350.940289</td>\n",
       "      <td>250840.911509</td>\n",
       "    </tr>\n",
       "    <tr>\n",
       "      <th>3</th>\n",
       "      <td>TESO</td>\n",
       "      <td>BUKEDEA</td>\n",
       "      <td>624997.884423</td>\n",
       "      <td>150903.412822</td>\n",
       "    </tr>\n",
       "    <tr>\n",
       "      <th>4</th>\n",
       "      <td>BUKEDI</td>\n",
       "      <td>BUSIA</td>\n",
       "      <td>611790.200208</td>\n",
       "      <td>45829.826598</td>\n",
       "    </tr>\n",
       "  </tbody>\n",
       "</table>\n",
       "</div>"
      ],
      "text/plain": [
       "      F15Regions DName2016      Longitude       Latitude\n",
       "0  SOUTH BUGANDA    MASAKA  372569.060097  -54007.263475\n",
       "1         BUKEDI   PALLISA  604311.840104  132523.889881\n",
       "2          LANGO  ALEBTONG  528350.940289  250840.911509\n",
       "3           TESO   BUKEDEA  624997.884423  150903.412822\n",
       "4         BUKEDI     BUSIA  611790.200208   45829.826598"
      ]
     },
     "execution_count": 67,
     "metadata": {},
     "output_type": "execute_result"
    }
   ],
   "source": [
    "# we need the regions and and districts and geometry\n",
    "uganda_boundaries.head()"
   ]
  },
  {
   "cell_type": "code",
   "execution_count": 68,
   "metadata": {},
   "outputs": [
    {
     "data": {
      "text/html": [
       "<div>\n",
       "<style scoped>\n",
       "    .dataframe tbody tr th:only-of-type {\n",
       "        vertical-align: middle;\n",
       "    }\n",
       "\n",
       "    .dataframe tbody tr th {\n",
       "        vertical-align: top;\n",
       "    }\n",
       "\n",
       "    .dataframe thead th {\n",
       "        text-align: right;\n",
       "    }\n",
       "</style>\n",
       "<table border=\"1\" class=\"dataframe\">\n",
       "  <thead>\n",
       "    <tr style=\"text-align: right;\">\n",
       "      <th></th>\n",
       "      <th>Regions</th>\n",
       "      <th>District</th>\n",
       "      <th>Longitude</th>\n",
       "      <th>Latitude</th>\n",
       "    </tr>\n",
       "  </thead>\n",
       "  <tbody>\n",
       "    <tr>\n",
       "      <th>0</th>\n",
       "      <td>SOUTH BUGANDA</td>\n",
       "      <td>MASAKA</td>\n",
       "      <td>372569.060097</td>\n",
       "      <td>-54007.263475</td>\n",
       "    </tr>\n",
       "    <tr>\n",
       "      <th>1</th>\n",
       "      <td>BUKEDI</td>\n",
       "      <td>PALLISA</td>\n",
       "      <td>604311.840104</td>\n",
       "      <td>132523.889881</td>\n",
       "    </tr>\n",
       "    <tr>\n",
       "      <th>2</th>\n",
       "      <td>LANGO</td>\n",
       "      <td>ALEBTONG</td>\n",
       "      <td>528350.940289</td>\n",
       "      <td>250840.911509</td>\n",
       "    </tr>\n",
       "    <tr>\n",
       "      <th>3</th>\n",
       "      <td>TESO</td>\n",
       "      <td>BUKEDEA</td>\n",
       "      <td>624997.884423</td>\n",
       "      <td>150903.412822</td>\n",
       "    </tr>\n",
       "    <tr>\n",
       "      <th>4</th>\n",
       "      <td>BUKEDI</td>\n",
       "      <td>BUSIA</td>\n",
       "      <td>611790.200208</td>\n",
       "      <td>45829.826598</td>\n",
       "    </tr>\n",
       "  </tbody>\n",
       "</table>\n",
       "</div>"
      ],
      "text/plain": [
       "         Regions  District      Longitude       Latitude\n",
       "0  SOUTH BUGANDA    MASAKA  372569.060097  -54007.263475\n",
       "1         BUKEDI   PALLISA  604311.840104  132523.889881\n",
       "2          LANGO  ALEBTONG  528350.940289  250840.911509\n",
       "3           TESO   BUKEDEA  624997.884423  150903.412822\n",
       "4         BUKEDI     BUSIA  611790.200208   45829.826598"
      ]
     },
     "execution_count": 68,
     "metadata": {},
     "output_type": "execute_result"
    }
   ],
   "source": [
    "# lets rename the columns for the dataframe\n",
    "uganda_boundaries.rename(columns={'F15Regions': 'Regions', 'DName2016': 'District'}, inplace=True)\n",
    "uganda_boundaries.head()"
   ]
  },
  {
   "cell_type": "code",
   "execution_count": 69,
   "metadata": {},
   "outputs": [],
   "source": [
    "# lets load the data of teacher and we do some manipulation on it\n",
    "teachers_data = pd.read_csv('teacher_and_pupils/teachers-2010-2015.csv')"
   ]
  },
  {
   "cell_type": "code",
   "execution_count": 70,
   "metadata": {},
   "outputs": [
    {
     "data": {
      "text/html": [
       "<div>\n",
       "<style scoped>\n",
       "    .dataframe tbody tr th:only-of-type {\n",
       "        vertical-align: middle;\n",
       "    }\n",
       "\n",
       "    .dataframe tbody tr th {\n",
       "        vertical-align: top;\n",
       "    }\n",
       "\n",
       "    .dataframe thead th {\n",
       "        text-align: right;\n",
       "    }\n",
       "</style>\n",
       "<table border=\"1\" class=\"dataframe\">\n",
       "  <thead>\n",
       "    <tr style=\"text-align: right;\">\n",
       "      <th></th>\n",
       "      <th>Year</th>\n",
       "      <th>District ID</th>\n",
       "      <th>Name of district</th>\n",
       "      <th>Title of respondent</th>\n",
       "      <th>Type of school</th>\n",
       "      <th>Number of Male teachers</th>\n",
       "      <th>Number of female teachers</th>\n",
       "      <th>Number of teacher's who provide special needs education</th>\n",
       "      <th>Total Number of Teachers</th>\n",
       "      <th>Number of Absent Teachers</th>\n",
       "    </tr>\n",
       "  </thead>\n",
       "  <tbody>\n",
       "    <tr>\n",
       "      <th>0</th>\n",
       "      <td>2010</td>\n",
       "      <td>105</td>\n",
       "      <td>Masaka</td>\n",
       "      <td>HEADTEACHER</td>\n",
       "      <td>Day</td>\n",
       "      <td>5.0</td>\n",
       "      <td>14.0</td>\n",
       "      <td>0.0</td>\n",
       "      <td>19.0</td>\n",
       "      <td>4.0</td>\n",
       "    </tr>\n",
       "    <tr>\n",
       "      <th>1</th>\n",
       "      <td>2010</td>\n",
       "      <td>105</td>\n",
       "      <td>Masaka</td>\n",
       "      <td>KIWEESA ANTHONY</td>\n",
       "      <td>Day</td>\n",
       "      <td>5.0</td>\n",
       "      <td>3.0</td>\n",
       "      <td>0.0</td>\n",
       "      <td>8.0</td>\n",
       "      <td>2.0</td>\n",
       "    </tr>\n",
       "    <tr>\n",
       "      <th>2</th>\n",
       "      <td>2010</td>\n",
       "      <td>105</td>\n",
       "      <td>Masaka</td>\n",
       "      <td>TEACHER</td>\n",
       "      <td>Day</td>\n",
       "      <td>8.0</td>\n",
       "      <td>3.0</td>\n",
       "      <td>0.0</td>\n",
       "      <td>11.0</td>\n",
       "      <td>8.0</td>\n",
       "    </tr>\n",
       "    <tr>\n",
       "      <th>3</th>\n",
       "      <td>2010</td>\n",
       "      <td>105</td>\n",
       "      <td>Masaka</td>\n",
       "      <td>SENIOR EDUC.ASSISTANT</td>\n",
       "      <td>Day</td>\n",
       "      <td>2.0</td>\n",
       "      <td>10.0</td>\n",
       "      <td>1.0</td>\n",
       "      <td>13.0</td>\n",
       "      <td>3.0</td>\n",
       "    </tr>\n",
       "    <tr>\n",
       "      <th>4</th>\n",
       "      <td>2010</td>\n",
       "      <td>105</td>\n",
       "      <td>Masaka</td>\n",
       "      <td>Deputy headteacher</td>\n",
       "      <td>Both</td>\n",
       "      <td>5.0</td>\n",
       "      <td>13.0</td>\n",
       "      <td>2.0</td>\n",
       "      <td>20.0</td>\n",
       "      <td>0.0</td>\n",
       "    </tr>\n",
       "  </tbody>\n",
       "</table>\n",
       "</div>"
      ],
      "text/plain": [
       "   Year  District ID Name of district    Title of respondent Type of school  \\\n",
       "0  2010          105           Masaka            HEADTEACHER            Day   \n",
       "1  2010          105           Masaka        KIWEESA ANTHONY            Day   \n",
       "2  2010          105           Masaka                TEACHER            Day   \n",
       "3  2010          105           Masaka  SENIOR EDUC.ASSISTANT            Day   \n",
       "4  2010          105           Masaka     Deputy headteacher           Both   \n",
       "\n",
       "    Number of Male teachers  Number of female teachers  \\\n",
       "0                       5.0                       14.0   \n",
       "1                       5.0                        3.0   \n",
       "2                       8.0                        3.0   \n",
       "3                       2.0                       10.0   \n",
       "4                       5.0                       13.0   \n",
       "\n",
       "    Number of teacher's who provide special needs education  \\\n",
       "0                                                0.0          \n",
       "1                                                0.0          \n",
       "2                                                0.0          \n",
       "3                                                1.0          \n",
       "4                                                2.0          \n",
       "\n",
       "   Total Number of Teachers  Number of Absent Teachers  \n",
       "0                      19.0                        4.0  \n",
       "1                       8.0                        2.0  \n",
       "2                      11.0                        8.0  \n",
       "3                      13.0                        3.0  \n",
       "4                      20.0                        0.0  "
      ]
     },
     "execution_count": 70,
     "metadata": {},
     "output_type": "execute_result"
    }
   ],
   "source": [
    "teachers_data.head()"
   ]
  },
  {
   "cell_type": "code",
   "execution_count": 71,
   "metadata": {},
   "outputs": [],
   "source": [
    "#lets drop the variables that do not need for our analysis\n",
    "teachers_data.drop(['District ID','Title of respondent'], axis=1, inplace=True)"
   ]
  },
  {
   "cell_type": "code",
   "execution_count": 72,
   "metadata": {},
   "outputs": [
    {
     "data": {
      "text/html": [
       "<div>\n",
       "<style scoped>\n",
       "    .dataframe tbody tr th:only-of-type {\n",
       "        vertical-align: middle;\n",
       "    }\n",
       "\n",
       "    .dataframe tbody tr th {\n",
       "        vertical-align: top;\n",
       "    }\n",
       "\n",
       "    .dataframe thead th {\n",
       "        text-align: right;\n",
       "    }\n",
       "</style>\n",
       "<table border=\"1\" class=\"dataframe\">\n",
       "  <thead>\n",
       "    <tr style=\"text-align: right;\">\n",
       "      <th></th>\n",
       "      <th>Year</th>\n",
       "      <th>Name of district</th>\n",
       "      <th>Type of school</th>\n",
       "      <th>Number of Male teachers</th>\n",
       "      <th>Number of female teachers</th>\n",
       "      <th>Number of teacher's who provide special needs education</th>\n",
       "      <th>Total Number of Teachers</th>\n",
       "      <th>Number of Absent Teachers</th>\n",
       "    </tr>\n",
       "  </thead>\n",
       "  <tbody>\n",
       "    <tr>\n",
       "      <th>0</th>\n",
       "      <td>2010</td>\n",
       "      <td>Masaka</td>\n",
       "      <td>Day</td>\n",
       "      <td>5.0</td>\n",
       "      <td>14.0</td>\n",
       "      <td>0.0</td>\n",
       "      <td>19.0</td>\n",
       "      <td>4.0</td>\n",
       "    </tr>\n",
       "    <tr>\n",
       "      <th>1</th>\n",
       "      <td>2010</td>\n",
       "      <td>Masaka</td>\n",
       "      <td>Day</td>\n",
       "      <td>5.0</td>\n",
       "      <td>3.0</td>\n",
       "      <td>0.0</td>\n",
       "      <td>8.0</td>\n",
       "      <td>2.0</td>\n",
       "    </tr>\n",
       "    <tr>\n",
       "      <th>2</th>\n",
       "      <td>2010</td>\n",
       "      <td>Masaka</td>\n",
       "      <td>Day</td>\n",
       "      <td>8.0</td>\n",
       "      <td>3.0</td>\n",
       "      <td>0.0</td>\n",
       "      <td>11.0</td>\n",
       "      <td>8.0</td>\n",
       "    </tr>\n",
       "    <tr>\n",
       "      <th>3</th>\n",
       "      <td>2010</td>\n",
       "      <td>Masaka</td>\n",
       "      <td>Day</td>\n",
       "      <td>2.0</td>\n",
       "      <td>10.0</td>\n",
       "      <td>1.0</td>\n",
       "      <td>13.0</td>\n",
       "      <td>3.0</td>\n",
       "    </tr>\n",
       "    <tr>\n",
       "      <th>4</th>\n",
       "      <td>2010</td>\n",
       "      <td>Masaka</td>\n",
       "      <td>Both</td>\n",
       "      <td>5.0</td>\n",
       "      <td>13.0</td>\n",
       "      <td>2.0</td>\n",
       "      <td>20.0</td>\n",
       "      <td>0.0</td>\n",
       "    </tr>\n",
       "  </tbody>\n",
       "</table>\n",
       "</div>"
      ],
      "text/plain": [
       "   Year Name of district Type of school   Number of Male teachers  \\\n",
       "0  2010           Masaka            Day                       5.0   \n",
       "1  2010           Masaka            Day                       5.0   \n",
       "2  2010           Masaka            Day                       8.0   \n",
       "3  2010           Masaka            Day                       2.0   \n",
       "4  2010           Masaka           Both                       5.0   \n",
       "\n",
       "   Number of female teachers  \\\n",
       "0                       14.0   \n",
       "1                        3.0   \n",
       "2                        3.0   \n",
       "3                       10.0   \n",
       "4                       13.0   \n",
       "\n",
       "    Number of teacher's who provide special needs education  \\\n",
       "0                                                0.0          \n",
       "1                                                0.0          \n",
       "2                                                0.0          \n",
       "3                                                1.0          \n",
       "4                                                2.0          \n",
       "\n",
       "   Total Number of Teachers  Number of Absent Teachers  \n",
       "0                      19.0                        4.0  \n",
       "1                       8.0                        2.0  \n",
       "2                      11.0                        8.0  \n",
       "3                      13.0                        3.0  \n",
       "4                      20.0                        0.0  "
      ]
     },
     "execution_count": 72,
     "metadata": {},
     "output_type": "execute_result"
    }
   ],
   "source": [
    "teachers_data.head()"
   ]
  },
  {
   "cell_type": "code",
   "execution_count": 73,
   "metadata": {},
   "outputs": [],
   "source": [
    "#lets rename the District column since we shall be using it to join the datasets\n",
    "teachers_data.rename(columns={'Name of district': 'District'}, inplace=True)"
   ]
  },
  {
   "cell_type": "code",
   "execution_count": 74,
   "metadata": {},
   "outputs": [
    {
     "data": {
      "text/plain": [
       "0        Masaka\n",
       "1        Masaka\n",
       "2        Masaka\n",
       "3        Masaka\n",
       "4        Masaka\n",
       "          ...  \n",
       "11697    SHEEMA\n",
       "11698    SHEEMA\n",
       "11699    SHEEMA\n",
       "11700    SHEEMA\n",
       "11701    SHEEMA\n",
       "Name: District, Length: 11702, dtype: object"
      ]
     },
     "execution_count": 74,
     "metadata": {},
     "output_type": "execute_result"
    }
   ],
   "source": [
    "teachers_data['District']"
   ]
  },
  {
   "cell_type": "code",
   "execution_count": null,
   "metadata": {},
   "outputs": [],
   "source": []
  },
  {
   "cell_type": "code",
   "execution_count": null,
   "metadata": {},
   "outputs": [],
   "source": []
  },
  {
   "cell_type": "code",
   "execution_count": 75,
   "metadata": {},
   "outputs": [],
   "source": [
    "# lets now load the pupils dataset\n",
    "pupils_data = pd.read_csv('teacher_and_pupils/pupil-enrollment-2010-2015.csv')"
   ]
  },
  {
   "cell_type": "code",
   "execution_count": 76,
   "metadata": {},
   "outputs": [
    {
     "data": {
      "text/html": [
       "<div>\n",
       "<style scoped>\n",
       "    .dataframe tbody tr th:only-of-type {\n",
       "        vertical-align: middle;\n",
       "    }\n",
       "\n",
       "    .dataframe tbody tr th {\n",
       "        vertical-align: top;\n",
       "    }\n",
       "\n",
       "    .dataframe thead th {\n",
       "        text-align: right;\n",
       "    }\n",
       "</style>\n",
       "<table border=\"1\" class=\"dataframe\">\n",
       "  <thead>\n",
       "    <tr style=\"text-align: right;\">\n",
       "      <th></th>\n",
       "      <th>Year</th>\n",
       "      <th>District ID</th>\n",
       "      <th>Name of district</th>\n",
       "      <th>Title of respondent</th>\n",
       "      <th>Type of school</th>\n",
       "      <th>Total P1 Boys Enrollment</th>\n",
       "      <th>Total P1 Girls Enrollment</th>\n",
       "      <th>Total P2 Boys Enrollment</th>\n",
       "      <th>Total P2 Girls Enrollment</th>\n",
       "      <th>Total P3 Boys Enrollment</th>\n",
       "      <th>...</th>\n",
       "      <th>Total P4 Girls Enrollment</th>\n",
       "      <th>Total P5 Boys Enrollment</th>\n",
       "      <th>Total P5 Girls Enrollment</th>\n",
       "      <th>Total P6 Boys Enrollment</th>\n",
       "      <th>Total P6 Girls Enrollment</th>\n",
       "      <th>Total P7 Boys Enrollment</th>\n",
       "      <th>Total P7 Girls Enrollment</th>\n",
       "      <th>Total Boys Enrollment</th>\n",
       "      <th>Total Girls Enrollment</th>\n",
       "      <th>Total Enrollment</th>\n",
       "    </tr>\n",
       "  </thead>\n",
       "  <tbody>\n",
       "    <tr>\n",
       "      <th>0</th>\n",
       "      <td>2010</td>\n",
       "      <td>105</td>\n",
       "      <td>Masaka</td>\n",
       "      <td>HEADTEACHER</td>\n",
       "      <td>Day</td>\n",
       "      <td>58.0</td>\n",
       "      <td>60.0</td>\n",
       "      <td>42.0</td>\n",
       "      <td>51.0</td>\n",
       "      <td>55.0</td>\n",
       "      <td>...</td>\n",
       "      <td>62.0</td>\n",
       "      <td>45.0</td>\n",
       "      <td>61.0</td>\n",
       "      <td>47.0</td>\n",
       "      <td>49.0</td>\n",
       "      <td>14.0</td>\n",
       "      <td>40.0</td>\n",
       "      <td>317.0</td>\n",
       "      <td>383.0</td>\n",
       "      <td>700.0</td>\n",
       "    </tr>\n",
       "    <tr>\n",
       "      <th>1</th>\n",
       "      <td>2010</td>\n",
       "      <td>105</td>\n",
       "      <td>Masaka</td>\n",
       "      <td>KIWEESA ANTHONY</td>\n",
       "      <td>Day</td>\n",
       "      <td>26.0</td>\n",
       "      <td>30.0</td>\n",
       "      <td>45.0</td>\n",
       "      <td>36.0</td>\n",
       "      <td>46.0</td>\n",
       "      <td>...</td>\n",
       "      <td>48.0</td>\n",
       "      <td>33.0</td>\n",
       "      <td>41.0</td>\n",
       "      <td>37.0</td>\n",
       "      <td>32.0</td>\n",
       "      <td>25.0</td>\n",
       "      <td>20.0</td>\n",
       "      <td>258.0</td>\n",
       "      <td>247.0</td>\n",
       "      <td>505.0</td>\n",
       "    </tr>\n",
       "    <tr>\n",
       "      <th>2</th>\n",
       "      <td>2010</td>\n",
       "      <td>105</td>\n",
       "      <td>Masaka</td>\n",
       "      <td>TEACHER</td>\n",
       "      <td>Day</td>\n",
       "      <td>65.0</td>\n",
       "      <td>55.0</td>\n",
       "      <td>52.0</td>\n",
       "      <td>46.0</td>\n",
       "      <td>75.0</td>\n",
       "      <td>...</td>\n",
       "      <td>52.0</td>\n",
       "      <td>30.0</td>\n",
       "      <td>55.0</td>\n",
       "      <td>18.0</td>\n",
       "      <td>30.0</td>\n",
       "      <td>14.0</td>\n",
       "      <td>35.0</td>\n",
       "      <td>294.0</td>\n",
       "      <td>323.0</td>\n",
       "      <td>617.0</td>\n",
       "    </tr>\n",
       "    <tr>\n",
       "      <th>3</th>\n",
       "      <td>2010</td>\n",
       "      <td>105</td>\n",
       "      <td>Masaka</td>\n",
       "      <td>SENIOR EDUC.ASSISTANT</td>\n",
       "      <td>Day</td>\n",
       "      <td>62.0</td>\n",
       "      <td>76.0</td>\n",
       "      <td>61.0</td>\n",
       "      <td>48.0</td>\n",
       "      <td>48.0</td>\n",
       "      <td>...</td>\n",
       "      <td>52.0</td>\n",
       "      <td>47.0</td>\n",
       "      <td>50.0</td>\n",
       "      <td>40.0</td>\n",
       "      <td>45.0</td>\n",
       "      <td>22.0</td>\n",
       "      <td>25.0</td>\n",
       "      <td>332.0</td>\n",
       "      <td>350.0</td>\n",
       "      <td>682.0</td>\n",
       "    </tr>\n",
       "    <tr>\n",
       "      <th>4</th>\n",
       "      <td>2010</td>\n",
       "      <td>105</td>\n",
       "      <td>Masaka</td>\n",
       "      <td>Deputy headteacher</td>\n",
       "      <td>Both</td>\n",
       "      <td>125.0</td>\n",
       "      <td>116.0</td>\n",
       "      <td>52.0</td>\n",
       "      <td>55.0</td>\n",
       "      <td>49.0</td>\n",
       "      <td>...</td>\n",
       "      <td>56.0</td>\n",
       "      <td>44.0</td>\n",
       "      <td>52.0</td>\n",
       "      <td>40.0</td>\n",
       "      <td>50.0</td>\n",
       "      <td>36.0</td>\n",
       "      <td>43.0</td>\n",
       "      <td>412.0</td>\n",
       "      <td>425.0</td>\n",
       "      <td>827.0</td>\n",
       "    </tr>\n",
       "  </tbody>\n",
       "</table>\n",
       "<p>5 rows × 22 columns</p>\n",
       "</div>"
      ],
      "text/plain": [
       "   Year  District ID Name of district    Title of respondent Type of school  \\\n",
       "0  2010          105           Masaka            HEADTEACHER            Day   \n",
       "1  2010          105           Masaka        KIWEESA ANTHONY            Day   \n",
       "2  2010          105           Masaka                TEACHER            Day   \n",
       "3  2010          105           Masaka  SENIOR EDUC.ASSISTANT            Day   \n",
       "4  2010          105           Masaka     Deputy headteacher           Both   \n",
       "\n",
       "   Total P1 Boys Enrollment  Total P1 Girls Enrollment  \\\n",
       "0                      58.0                       60.0   \n",
       "1                      26.0                       30.0   \n",
       "2                      65.0                       55.0   \n",
       "3                      62.0                       76.0   \n",
       "4                     125.0                      116.0   \n",
       "\n",
       "   Total P2 Boys Enrollment  Total P2 Girls Enrollment  \\\n",
       "0                      42.0                       51.0   \n",
       "1                      45.0                       36.0   \n",
       "2                      52.0                       46.0   \n",
       "3                      61.0                       48.0   \n",
       "4                      52.0                       55.0   \n",
       "\n",
       "   Total P3 Boys Enrollment  ...  Total P4 Girls Enrollment  \\\n",
       "0                      55.0  ...                       62.0   \n",
       "1                      46.0  ...                       48.0   \n",
       "2                      75.0  ...                       52.0   \n",
       "3                      48.0  ...                       52.0   \n",
       "4                      49.0  ...                       56.0   \n",
       "\n",
       "   Total P5 Boys Enrollment  Total P5 Girls Enrollment  \\\n",
       "0                      45.0                       61.0   \n",
       "1                      33.0                       41.0   \n",
       "2                      30.0                       55.0   \n",
       "3                      47.0                       50.0   \n",
       "4                      44.0                       52.0   \n",
       "\n",
       "   Total P6 Boys Enrollment  Total P6 Girls Enrollment  \\\n",
       "0                      47.0                       49.0   \n",
       "1                      37.0                       32.0   \n",
       "2                      18.0                       30.0   \n",
       "3                      40.0                       45.0   \n",
       "4                      40.0                       50.0   \n",
       "\n",
       "   Total P7 Boys Enrollment  Total P7 Girls Enrollment  Total Boys Enrollment  \\\n",
       "0                      14.0                       40.0                  317.0   \n",
       "1                      25.0                       20.0                  258.0   \n",
       "2                      14.0                       35.0                  294.0   \n",
       "3                      22.0                       25.0                  332.0   \n",
       "4                      36.0                       43.0                  412.0   \n",
       "\n",
       "   Total Girls Enrollment  Total Enrollment  \n",
       "0                   383.0             700.0  \n",
       "1                   247.0             505.0  \n",
       "2                   323.0             617.0  \n",
       "3                   350.0             682.0  \n",
       "4                   425.0             827.0  \n",
       "\n",
       "[5 rows x 22 columns]"
      ]
     },
     "execution_count": 76,
     "metadata": {},
     "output_type": "execute_result"
    }
   ],
   "source": [
    "pupils_data.head()"
   ]
  },
  {
   "cell_type": "code",
   "execution_count": 77,
   "metadata": {},
   "outputs": [
    {
     "data": {
      "text/plain": [
       "Index(['Year', 'District ID', 'Name of district', 'Title of respondent',\n",
       "       'Type of school', 'Total P1 Boys Enrollment',\n",
       "       'Total P1 Girls Enrollment', 'Total P2 Boys Enrollment',\n",
       "       'Total P2 Girls Enrollment', 'Total P3 Boys Enrollment',\n",
       "       'Total P3 Girls Enrollment', 'Total P4 Boys Enrollment',\n",
       "       'Total P4 Girls Enrollment', 'Total P5 Boys Enrollment',\n",
       "       'Total P5 Girls Enrollment', 'Total P6 Boys Enrollment',\n",
       "       'Total P6 Girls Enrollment', 'Total P7 Boys Enrollment',\n",
       "       'Total P7 Girls Enrollment', 'Total Boys Enrollment',\n",
       "       'Total Girls Enrollment', 'Total Enrollment'],\n",
       "      dtype='object')"
      ]
     },
     "execution_count": 77,
     "metadata": {},
     "output_type": "execute_result"
    }
   ],
   "source": [
    "pupils_data.columns"
   ]
  },
  {
   "cell_type": "code",
   "execution_count": 78,
   "metadata": {},
   "outputs": [],
   "source": [
    "# we need to drop the columns that we may not need to use\n",
    "pupils_data.drop(['District ID', 'Title of respondent',\n",
    "       'Type of school', 'Total P1 Boys Enrollment',\n",
    "       'Total P1 Girls Enrollment', 'Total P2 Boys Enrollment',\n",
    "       'Total P2 Girls Enrollment', 'Total P3 Boys Enrollment',\n",
    "       'Total P3 Girls Enrollment', 'Total P4 Boys Enrollment',\n",
    "       'Total P4 Girls Enrollment', 'Total P5 Boys Enrollment',\n",
    "       'Total P5 Girls Enrollment', 'Total P6 Boys Enrollment',\n",
    "       'Total P6 Girls Enrollment', 'Total P7 Boys Enrollment',\n",
    "       'Total P7 Girls Enrollment',], axis=1, inplace=True)\n"
   ]
  },
  {
   "cell_type": "code",
   "execution_count": 79,
   "metadata": {},
   "outputs": [],
   "source": [
    "# lets rename the dictrict name for our data\n",
    "pupils_data.rename(columns={'Name of district': 'District'}, inplace=True)"
   ]
  },
  {
   "cell_type": "code",
   "execution_count": 80,
   "metadata": {},
   "outputs": [
    {
     "data": {
      "text/plain": [
       "Index(['Year', 'District', 'Total Boys Enrollment', 'Total Girls Enrollment',\n",
       "       'Total Enrollment'],\n",
       "      dtype='object')"
      ]
     },
     "execution_count": 80,
     "metadata": {},
     "output_type": "execute_result"
    }
   ],
   "source": [
    "pupils_data.columns"
   ]
  },
  {
   "cell_type": "code",
   "execution_count": 81,
   "metadata": {},
   "outputs": [],
   "source": [
    "# let merge the schools and pupils dataset unto the boundaries"
   ]
  },
  {
   "cell_type": "code",
   "execution_count": 82,
   "metadata": {},
   "outputs": [],
   "source": [
    "dataset = pd.merge(pupils_data,teachers_data, how=\"inner\", on=['District','Year'])"
   ]
  },
  {
   "cell_type": "code",
   "execution_count": 83,
   "metadata": {},
   "outputs": [],
   "source": [
    "final_dataset = uganda_boundaries.merge(dataset, on='District')"
   ]
  },
  {
   "cell_type": "code",
   "execution_count": 84,
   "metadata": {},
   "outputs": [],
   "source": [
    "#final_dataset.to_csv('final_dataset.csv')"
   ]
  },
  {
   "cell_type": "code",
   "execution_count": null,
   "metadata": {},
   "outputs": [],
   "source": []
  },
  {
   "cell_type": "code",
   "execution_count": 85,
   "metadata": {},
   "outputs": [
    {
     "data": {
      "text/plain": [
       "Index(['Regions', 'District', 'Longitude', 'Latitude', 'Year',\n",
       "       'Total Boys Enrollment', 'Total Girls Enrollment', 'Total Enrollment',\n",
       "       'Type of school', ' Number of Male teachers',\n",
       "       'Number of female teachers',\n",
       "       ' Number of teacher's who provide special needs education',\n",
       "       'Total Number of Teachers', 'Number of Absent Teachers'],\n",
       "      dtype='object')"
      ]
     },
     "execution_count": 85,
     "metadata": {},
     "output_type": "execute_result"
    }
   ],
   "source": [
    "final_dataset.columns"
   ]
  },
  {
   "cell_type": "code",
   "execution_count": 86,
   "metadata": {},
   "outputs": [
    {
     "data": {
      "text/plain": [
       "Index(['Regions', 'District', 'Longitude', 'Latitude', 'Year',\n",
       "       'Total Boys Enrollment', 'Total Girls Enrollment', 'Total Enrollment',\n",
       "       'Type of school', ' Number of Male teachers',\n",
       "       'Number of female teachers',\n",
       "       ' Number of teacher's who provide special needs education',\n",
       "       'Total Number of Teachers', 'Number of Absent Teachers'],\n",
       "      dtype='object')"
      ]
     },
     "execution_count": 86,
     "metadata": {},
     "output_type": "execute_result"
    }
   ],
   "source": [
    "# lets deal with null values in our dataset\n",
    "final_dataset.columns"
   ]
  },
  {
   "cell_type": "code",
   "execution_count": 87,
   "metadata": {},
   "outputs": [
    {
     "data": {
      "text/plain": [
       "0    Mixed day\n",
       "Name: Type of school, dtype: object"
      ]
     },
     "execution_count": 87,
     "metadata": {},
     "output_type": "execute_result"
    }
   ],
   "source": [
    "# we shall fill the missing values of the type of school with mode\n",
    "final_dataset['Type of school'].mode()\n"
   ]
  },
  {
   "cell_type": "code",
   "execution_count": 88,
   "metadata": {},
   "outputs": [],
   "source": [
    "# fill the missing values with mode\n",
    "final_dataset['Type of school'].fillna('Mixed day', inplace=True)"
   ]
  },
  {
   "cell_type": "code",
   "execution_count": 89,
   "metadata": {},
   "outputs": [
    {
     "data": {
      "text/plain": [
       "7.725836554820307"
      ]
     },
     "execution_count": 89,
     "metadata": {},
     "output_type": "execute_result"
    }
   ],
   "source": [
    " final_dataset[' Number of Male teachers'].mean()"
   ]
  },
  {
   "cell_type": "code",
   "execution_count": 90,
   "metadata": {},
   "outputs": [],
   "source": [
    "# lets fill the null value with mean\n",
    "final_dataset[' Number of Male teachers'].fillna(8, inplace=True)\n"
   ]
  },
  {
   "cell_type": "code",
   "execution_count": 91,
   "metadata": {},
   "outputs": [
    {
     "data": {
      "text/plain": [
       "5.728683813939341"
      ]
     },
     "execution_count": 91,
     "metadata": {},
     "output_type": "execute_result"
    }
   ],
   "source": [
    " final_dataset['Number of female teachers'].mean()"
   ]
  },
  {
   "cell_type": "code",
   "execution_count": 92,
   "metadata": {},
   "outputs": [],
   "source": [
    "final_dataset['Number of female teachers'].fillna(6, inplace=True)"
   ]
  },
  {
   "cell_type": "code",
   "execution_count": 93,
   "metadata": {},
   "outputs": [
    {
     "data": {
      "text/plain": [
       "0.7442544176595206"
      ]
     },
     "execution_count": 93,
     "metadata": {},
     "output_type": "execute_result"
    }
   ],
   "source": [
    " final_dataset[\" Number of teacher's who provide special needs education\"].mean()"
   ]
  },
  {
   "cell_type": "code",
   "execution_count": 94,
   "metadata": {},
   "outputs": [],
   "source": [
    "final_dataset[\" Number of teacher's who provide special needs education\"].fillna(1, inplace = True)"
   ]
  },
  {
   "cell_type": "code",
   "execution_count": 95,
   "metadata": {},
   "outputs": [
    {
     "data": {
      "text/plain": [
       "0.8137194477310455"
      ]
     },
     "execution_count": 95,
     "metadata": {},
     "output_type": "execute_result"
    }
   ],
   "source": [
    " final_dataset[\" Number of teacher's who provide special needs education\"].mean()"
   ]
  },
  {
   "cell_type": "code",
   "execution_count": 96,
   "metadata": {},
   "outputs": [
    {
     "data": {
      "text/plain": [
       "Regions                                                          0\n",
       "District                                                         0\n",
       "Longitude                                                        0\n",
       "Latitude                                                         0\n",
       "Year                                                             0\n",
       "Total Boys Enrollment                                            0\n",
       "Total Girls Enrollment                                           0\n",
       "Total Enrollment                                                 0\n",
       "Type of school                                                   0\n",
       " Number of Male teachers                                         0\n",
       "Number of female teachers                                        0\n",
       " Number of teacher's who provide special needs education         0\n",
       "Total Number of Teachers                                      4473\n",
       "Number of Absent Teachers                                   222283\n",
       "dtype: int64"
      ]
     },
     "execution_count": 96,
     "metadata": {},
     "output_type": "execute_result"
    }
   ],
   "source": [
    "final_dataset.isnull().sum()"
   ]
  },
  {
   "cell_type": "code",
   "execution_count": 97,
   "metadata": {},
   "outputs": [
    {
     "data": {
      "text/plain": [
       "13.429502777650246"
      ]
     },
     "execution_count": 97,
     "metadata": {},
     "output_type": "execute_result"
    }
   ],
   "source": [
    " final_dataset[\"Total Number of Teachers\"].mean()"
   ]
  },
  {
   "cell_type": "code",
   "execution_count": 98,
   "metadata": {},
   "outputs": [],
   "source": [
    "final_dataset[\"Total Number of Teachers\"].fillna(1, inplace = True)"
   ]
  },
  {
   "cell_type": "code",
   "execution_count": 99,
   "metadata": {},
   "outputs": [],
   "source": [
    " final_dataset[\"Number of Absent Teachers\"].fillna(0, inplace=True)"
   ]
  },
  {
   "cell_type": "code",
   "execution_count": 100,
   "metadata": {},
   "outputs": [
    {
     "data": {
      "text/plain": [
       "Regions                                                     0\n",
       "District                                                    0\n",
       "Longitude                                                   0\n",
       "Latitude                                                    0\n",
       "Year                                                        0\n",
       "Total Boys Enrollment                                       0\n",
       "Total Girls Enrollment                                      0\n",
       "Total Enrollment                                            0\n",
       "Type of school                                              0\n",
       " Number of Male teachers                                    0\n",
       "Number of female teachers                                   0\n",
       " Number of teacher's who provide special needs education    0\n",
       "Total Number of Teachers                                    0\n",
       "Number of Absent Teachers                                   0\n",
       "dtype: int64"
      ]
     },
     "execution_count": 100,
     "metadata": {},
     "output_type": "execute_result"
    }
   ],
   "source": [
    " # our dataset now has no null values\n",
    " final_dataset.isnull().sum()"
   ]
  },
  {
   "cell_type": "code",
   "execution_count": null,
   "metadata": {},
   "outputs": [],
   "source": []
  },
  {
   "cell_type": "markdown",
   "metadata": {},
   "source": [
    "#### Model Generation"
   ]
  },
  {
   "cell_type": "code",
   "execution_count": 101,
   "metadata": {},
   "outputs": [],
   "source": [
    "# We begin by importing necessary libraries for the model\n",
    "from sklearn.model_selection import train_test_split\n",
    "from sklearn.linear_model import LinearRegression\n",
    "from sklearn.preprocessing import LabelEncoder\n",
    "from sklearn.preprocessing import StandardScaler\n",
    "from sklearn import metrics\n",
    "import numpy as np\n",
    "import matplotlib.pyplot as plt\n",
    "from sklearn.ensemble import RandomForestRegressor\n",
    "from sklearn.metrics import mean_squared_error, r2_score\n",
    "from math import sqrt\n",
    "\n"
   ]
  },
  {
   "cell_type": "code",
   "execution_count": 102,
   "metadata": {},
   "outputs": [],
   "source": [
    "le = LabelEncoder()\n",
    "final_dataset['Regions'] = le.fit_transform(final_dataset['Regions'])\n",
    "final_dataset['District'] = le.fit_transform(final_dataset['District'])\n",
    "final_dataset['Type of school'] = le.fit_transform(final_dataset['Type of school'])"
   ]
  },
  {
   "cell_type": "code",
   "execution_count": null,
   "metadata": {},
   "outputs": [],
   "source": []
  },
  {
   "cell_type": "code",
   "execution_count": 103,
   "metadata": {},
   "outputs": [],
   "source": [
    "X = final_dataset[['District','Regions','Total Enrollment', 'Type of school']]\n",
    "y = final_dataset['Total Number of Teachers']"
   ]
  },
  {
   "cell_type": "code",
   "execution_count": 104,
   "metadata": {},
   "outputs": [],
   "source": [
    "X_train, X_test, y_train, y_test = train_test_split(X, y, test_size=0.2, random_state=42)"
   ]
  },
  {
   "cell_type": "code",
   "execution_count": 105,
   "metadata": {},
   "outputs": [],
   "source": [
    "scaler = StandardScaler()\n",
    "scaler.fit(X_train)\n",
    "X_train_scaled = scaler.transform(X_train)\n",
    "X_test_scaled = scaler.transform(X_test)"
   ]
  },
  {
   "cell_type": "code",
   "execution_count": 106,
   "metadata": {},
   "outputs": [],
   "source": [
    "model = RandomForestRegressor(n_estimators=100, random_state=42)"
   ]
  },
  {
   "cell_type": "code",
   "execution_count": 107,
   "metadata": {},
   "outputs": [
    {
     "data": {
      "text/html": [
       "<style>#sk-container-id-2 {color: black;}#sk-container-id-2 pre{padding: 0;}#sk-container-id-2 div.sk-toggleable {background-color: white;}#sk-container-id-2 label.sk-toggleable__label {cursor: pointer;display: block;width: 100%;margin-bottom: 0;padding: 0.3em;box-sizing: border-box;text-align: center;}#sk-container-id-2 label.sk-toggleable__label-arrow:before {content: \"▸\";float: left;margin-right: 0.25em;color: #696969;}#sk-container-id-2 label.sk-toggleable__label-arrow:hover:before {color: black;}#sk-container-id-2 div.sk-estimator:hover label.sk-toggleable__label-arrow:before {color: black;}#sk-container-id-2 div.sk-toggleable__content {max-height: 0;max-width: 0;overflow: hidden;text-align: left;background-color: #f0f8ff;}#sk-container-id-2 div.sk-toggleable__content pre {margin: 0.2em;color: black;border-radius: 0.25em;background-color: #f0f8ff;}#sk-container-id-2 input.sk-toggleable__control:checked~div.sk-toggleable__content {max-height: 200px;max-width: 100%;overflow: auto;}#sk-container-id-2 input.sk-toggleable__control:checked~label.sk-toggleable__label-arrow:before {content: \"▾\";}#sk-container-id-2 div.sk-estimator input.sk-toggleable__control:checked~label.sk-toggleable__label {background-color: #d4ebff;}#sk-container-id-2 div.sk-label input.sk-toggleable__control:checked~label.sk-toggleable__label {background-color: #d4ebff;}#sk-container-id-2 input.sk-hidden--visually {border: 0;clip: rect(1px 1px 1px 1px);clip: rect(1px, 1px, 1px, 1px);height: 1px;margin: -1px;overflow: hidden;padding: 0;position: absolute;width: 1px;}#sk-container-id-2 div.sk-estimator {font-family: monospace;background-color: #f0f8ff;border: 1px dotted black;border-radius: 0.25em;box-sizing: border-box;margin-bottom: 0.5em;}#sk-container-id-2 div.sk-estimator:hover {background-color: #d4ebff;}#sk-container-id-2 div.sk-parallel-item::after {content: \"\";width: 100%;border-bottom: 1px solid gray;flex-grow: 1;}#sk-container-id-2 div.sk-label:hover label.sk-toggleable__label {background-color: #d4ebff;}#sk-container-id-2 div.sk-serial::before {content: \"\";position: absolute;border-left: 1px solid gray;box-sizing: border-box;top: 0;bottom: 0;left: 50%;z-index: 0;}#sk-container-id-2 div.sk-serial {display: flex;flex-direction: column;align-items: center;background-color: white;padding-right: 0.2em;padding-left: 0.2em;position: relative;}#sk-container-id-2 div.sk-item {position: relative;z-index: 1;}#sk-container-id-2 div.sk-parallel {display: flex;align-items: stretch;justify-content: center;background-color: white;position: relative;}#sk-container-id-2 div.sk-item::before, #sk-container-id-2 div.sk-parallel-item::before {content: \"\";position: absolute;border-left: 1px solid gray;box-sizing: border-box;top: 0;bottom: 0;left: 50%;z-index: -1;}#sk-container-id-2 div.sk-parallel-item {display: flex;flex-direction: column;z-index: 1;position: relative;background-color: white;}#sk-container-id-2 div.sk-parallel-item:first-child::after {align-self: flex-end;width: 50%;}#sk-container-id-2 div.sk-parallel-item:last-child::after {align-self: flex-start;width: 50%;}#sk-container-id-2 div.sk-parallel-item:only-child::after {width: 0;}#sk-container-id-2 div.sk-dashed-wrapped {border: 1px dashed gray;margin: 0 0.4em 0.5em 0.4em;box-sizing: border-box;padding-bottom: 0.4em;background-color: white;}#sk-container-id-2 div.sk-label label {font-family: monospace;font-weight: bold;display: inline-block;line-height: 1.2em;}#sk-container-id-2 div.sk-label-container {text-align: center;}#sk-container-id-2 div.sk-container {/* jupyter's `normalize.less` sets `[hidden] { display: none; }` but bootstrap.min.css set `[hidden] { display: none !important; }` so we also need the `!important` here to be able to override the default hidden behavior on the sphinx rendered scikit-learn.org. See: https://github.com/scikit-learn/scikit-learn/issues/21755 */display: inline-block !important;position: relative;}#sk-container-id-2 div.sk-text-repr-fallback {display: none;}</style><div id=\"sk-container-id-2\" class=\"sk-top-container\"><div class=\"sk-text-repr-fallback\"><pre>RandomForestRegressor(random_state=42)</pre><b>In a Jupyter environment, please rerun this cell to show the HTML representation or trust the notebook. <br />On GitHub, the HTML representation is unable to render, please try loading this page with nbviewer.org.</b></div><div class=\"sk-container\" hidden><div class=\"sk-item\"><div class=\"sk-estimator sk-toggleable\"><input class=\"sk-toggleable__control sk-hidden--visually\" id=\"sk-estimator-id-2\" type=\"checkbox\" checked><label for=\"sk-estimator-id-2\" class=\"sk-toggleable__label sk-toggleable__label-arrow\">RandomForestRegressor</label><div class=\"sk-toggleable__content\"><pre>RandomForestRegressor(random_state=42)</pre></div></div></div></div></div>"
      ],
      "text/plain": [
       "RandomForestRegressor(random_state=42)"
      ]
     },
     "execution_count": 107,
     "metadata": {},
     "output_type": "execute_result"
    }
   ],
   "source": [
    "model.fit(X_train, y_train)"
   ]
  },
  {
   "cell_type": "code",
   "execution_count": 108,
   "metadata": {},
   "outputs": [],
   "source": [
    "y_pred = model.predict(X_test)\n"
   ]
  },
  {
   "cell_type": "code",
   "execution_count": 109,
   "metadata": {},
   "outputs": [],
   "source": [
    "mse = mean_squared_error(y_test, y_pred)"
   ]
  },
  {
   "cell_type": "code",
   "execution_count": 110,
   "metadata": {},
   "outputs": [],
   "source": [
    "rmse = sqrt(mse)\n",
    "\n",
    "\n"
   ]
  },
  {
   "cell_type": "code",
   "execution_count": 111,
   "metadata": {},
   "outputs": [],
   "source": [
    "r2 = r2_score(y_test, y_pred)"
   ]
  },
  {
   "cell_type": "code",
   "execution_count": 112,
   "metadata": {},
   "outputs": [
    {
     "name": "stdout",
     "output_type": "stream",
     "text": [
      "MSE: 32.76727793162045\n",
      "RMSE: 5.724270951974622\n",
      "R-squared: 0.2509569201059709\n"
     ]
    }
   ],
   "source": [
    "print(f'MSE: {mse}')\n",
    "print(f'RMSE: {rmse}')\n",
    "print(f'R-squared: {r2}')"
   ]
  },
  {
   "cell_type": "markdown",
   "metadata": {},
   "source": [
    "### After Evaluation of Linear and Random forest models:\n",
    "### Linear Regression perfoms better"
   ]
  },
  {
   "cell_type": "code",
   "execution_count": 113,
   "metadata": {},
   "outputs": [
    {
     "data": {
      "text/plain": [
       "['model.pkl']"
      ]
     },
     "execution_count": 113,
     "metadata": {},
     "output_type": "execute_result"
    }
   ],
   "source": [
    "# Lets save the model, so that we use it later\n",
    "import joblib # We use joblib to save the model\n",
    "\n",
    "joblib.dump(model, 'model.pkl')"
   ]
  },
  {
   "cell_type": "code",
   "execution_count": 114,
   "metadata": {},
   "outputs": [],
   "source": [
    "model = joblib.load('model.pkl')"
   ]
  },
  {
   "cell_type": "code",
   "execution_count": 115,
   "metadata": {},
   "outputs": [
    {
     "name": "stdout",
     "output_type": "stream",
     "text": [
      "Models columns dumped!\n"
     ]
    }
   ],
   "source": [
    "model_columns = list(X_train.columns)\n",
    "joblib.dump(model_columns, 'model_columns.pkl')\n",
    "print(\"Models columns dumped!\")"
   ]
  },
  {
   "cell_type": "code",
   "execution_count": 116,
   "metadata": {},
   "outputs": [
    {
     "data": {
      "text/plain": [
       "Index(['District', 'Regions', 'Total Enrollment', 'Type of school'], dtype='object')"
      ]
     },
     "execution_count": 116,
     "metadata": {},
     "output_type": "execute_result"
    }
   ],
   "source": [
    "X_train.columns"
   ]
  },
  {
   "cell_type": "code",
   "execution_count": null,
   "metadata": {},
   "outputs": [],
   "source": []
  }
 ],
 "metadata": {
  "kernelspec": {
   "display_name": "Python 3",
   "language": "python",
   "name": "python3"
  },
  "language_info": {
   "codemirror_mode": {
    "name": "ipython",
    "version": 3
   },
   "file_extension": ".py",
   "mimetype": "text/x-python",
   "name": "python",
   "nbconvert_exporter": "python",
   "pygments_lexer": "ipython3",
   "version": "3.11.1"
  }
 },
 "nbformat": 4,
 "nbformat_minor": 2
}
